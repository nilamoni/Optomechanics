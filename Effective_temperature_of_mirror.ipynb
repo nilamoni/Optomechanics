{
 "cells": [
  {
   "cell_type": "markdown",
   "id": "125e8055",
   "metadata": {},
   "source": [
    "# Temperature of the movable mirror"
   ]
  },
  {
   "cell_type": "markdown",
   "id": "fe07795f",
   "metadata": {},
   "source": [
    "$$\n",
    "S_Q(\\omega) = |\\chi_{\\text{eff}}(\\omega)|^2\\left[S_{\\text{RP}}(\\omega) + S_{\\text{Th}}(\\omega)\\right]\n",
    "$$\n",
    "\n",
    "$$\n",
    "S_{\\text{RP}}(\\omega) = \\frac{8|G|^2\\kappa\\left(\\kappa^2 + \\omega^2 + \\tilde{\\Delta}^2\\right)}{\\left(\\kappa^2 + (\\omega - \\tilde{\\Delta})^2\\right) \\left(\\kappa^2 + (\\omega + \\tilde{\\Delta})^2\\right)}\n",
    "$$\n",
    "\n",
    "$$\n",
    "S_{\\text{Th}}(\\omega) = 2\\frac{\\gamma_m\\omega}{\\omega_m}\\coth\\left(\\frac{\\hbar\\omega}{2K_B T}\\right)\n",
    "$$\n",
    "\n",
    "where,\n",
    "$$\n",
    "G = \\omega_m\\chi\\bar{c}_s = \\omega_m \\tilde{G},\\; \\bar{c}_s = \\frac{\\varepsilon}{\\kappa + i\\tilde{\\Delta}},\\; \\chi = \\frac{1}{\\omega_m}\\frac{\\omega_c}{L}\\sqrt{\\frac{\\hbar}{2 m\\omega_m}} ,\\; \\varepsilon = \\sqrt{\\frac{2\\kappa\\mathcal{P}}{\\hbar\\omega_l}},\\; \\tilde{\\Delta} = \\Delta - 2\\chi^2\\omega_m|\\bar{c}_s|^2,\\; g_0 = \\omega_m\\chi\n",
    "$$\n",
    "\n",
    "$$\n",
    "\\chi_{\\text{eff}}(\\omega)  =  \\omega_m\\left[\\omega^2_m -\\omega^2 - i\\omega\\gamma_m -\\frac{4\\tilde{\\Delta}\\omega_m|G|^2}{\\tilde{\\Delta}^2+(\\kappa -i \\omega )^2}\\right]^{-1}\n",
    "$$\n",
    "\n",
    "Or\n",
    "\n",
    "$$\n",
    "\\chi_{\\text{eff}}(\\omega) =  \\omega_m\\left[\\omega^2_m -\\frac{4\\tilde{\\Delta}|G|^2\\omega_m(\\tilde{\\Delta}^2 + \\kappa^2 - \\omega^2)}{\\left(\\kappa^2 + (\\omega -  \\tilde{\\Delta})^2\\right) \\left(\\kappa^2 + (\\omega + \\tilde{\\Delta})^2\\right)} -\\omega^2 - i\\omega\\gamma_m -\\frac{4\\tilde{\\Delta}|G|^2\\omega_m( 2i\\kappa\\omega)}{\\left(\\kappa^2 + (\\omega -  \\tilde{\\Delta})^2\\right) \\left(\\kappa^2 + (\\omega + \\tilde{\\Delta})^2\\right)}\\right]^{-1}\n",
    "$$\n",
    "\n",
    "$$\n",
    "S_P(\\omega) =  \\frac{\\omega^2}{\\omega^2_m}S_Q(\\omega)\n",
    "$$\n",
    "\n",
    "The above equation in written in terms of dimensionless, $\\tilde{\\Delta}$, $\\kappa$, $\\omega$, and $\\gamma_m$. To write $S_{\\text{out}}(\\omega)$ is terms of dimensionless parameters, simply replace, $\\tilde{\\Delta} = \\tilde{\\Delta}\\omega_m$, $\\kappa = \\omega_m\\kappa$, $\\omega = \\omega\\omega_m$, $\\gamma_m = \\omega_m\\gamma_m$ and take $\\omega_m$ common. \n",
    "\n",
    "$$\n",
    "\\boxed{S_{\\text{RP}}(\\omega) = \\omega_m\\frac{8|\\tilde{G}|^2\\kappa\\left(\\kappa^2 + \\omega^2 + \\tilde{\\Delta}^2\\right)}{\\left(\\kappa^2 + (\\omega - \\tilde{\\Delta})^2\\right) \\left(\\kappa^2 + (\\omega + \\tilde{\\Delta})^2\\right)} = \\omega_m \\tilde{S}_{\\text{RP}}(\\omega)}\n",
    "$$\n",
    "\n",
    "$$\n",
    "\\boxed{S_{\\text{Th}}(\\omega) = \\omega_m 2\\gamma_m\\omega\\coth\\left(\\frac{\\omega}{\\frac{2k_B T}{\\hbar\\omega_m}}\\right) = \\omega_m 2\\gamma_m\\omega\\coth\\left(\\frac{\\omega}{\\tilde{T}}\\right) = \\omega_m \\tilde{S}_{\\text{Th}}(\\omega)}\n",
    "$$\n",
    "\n",
    "Here, $T$ is the temperature of the bath. And in the high temperature limit, $k_B T >>\\hbar\\omega_m$ therefore, $\\hbar\\omega_m/k_B T << 1$, the following approximation can be made,\n",
    "\n",
    "$$\n",
    "\\coth\\left(\\frac{\\hbar\\omega}{2k_BT}\\right)\\approx \\frac{\\hbar\\omega}{2k_B T}\n",
    "$$\n",
    "\n",
    "\n",
    "$$\n",
    "\\chi_{\\text{eff}}(\\omega) =  \\omega_m^{-1}\\left[1 - \\omega^2 - i\\omega\\gamma_m - \\frac{4\\tilde{\\Delta}|\\tilde{G}|^2}{\\tilde{\\Delta}^2 + (\\kappa - i\\omega)^2}\\right]^{-1} = \\omega_m^{-1}\\tilde{\\chi}_{\\text{eff}}(\\omega)\n",
    "$$\n",
    "\n",
    "\n",
    "$$\n",
    "\\chi_{\\text{eff}}(\\omega) =  \\omega_m^{-1}\\left[1 -\\frac{4\\tilde{\\Delta}|\\tilde{G}|^2(\\tilde{\\Delta}^2 + \\kappa^2 - \\omega^2)}{\\left(\\kappa^2 + (\\omega -  \\tilde{\\Delta})^2\\right) \\left(\\kappa^2 + (\\omega + \\tilde{\\Delta})^2\\right)} -\\omega^2 - i\\omega\\gamma_m -\\frac{4\\tilde{\\Delta}|\\tilde{G}|^2( 2i\\kappa\\omega)}{\\left(\\kappa^2 + (\\omega -  \\tilde{\\Delta})^2\\right) \\left(\\kappa^2 + (\\omega + \\tilde{\\Delta})^2\\right)}\\right]^{-1} = \\omega_m^{-1}\\tilde{\\chi}_{\\text{eff}}(\\omega)\n",
    "$$\n",
    "\n",
    "$$\n",
    "\\boxed{S_Q(\\omega) = \\omega_m^{-1}|\\tilde{\\chi}_{\\text{eff}}(\\omega)|^2\\left[\\tilde{S}_{\\text{RP}}(\\omega) + \\tilde{S}_{\\text{Th}}(\\omega)\\right] = \\omega_m^{-1}\\tilde{S}_Q(\\omega)}\n",
    "$$\n",
    "\n",
    "$$\n",
    "\\boxed{S_P(\\omega) =  \\omega^2 S_Q(\\omega) \\implies S_P(\\omega) =  \\omega_m^{-1}\\omega^2\\tilde{S}_Q(\\omega) \\implies S_P(\\omega) =  \\omega_m^{-1}\\tilde{S}_P(\\omega)}\n",
    "$$\n",
    "\n",
    "where, $\\tilde{S}_{P(Q)}$ are dimensionless. The dependence of $S_Q$ on power of the drive laser comes from\n",
    "\n",
    "$$\n",
    "|\\tilde{G}|^2 = \\chi^2|\\bar{c}_s|^2 = \\chi^2\\frac{\\varepsilon^2}{\\kappa^2 + \\tilde{\\Delta}^2}\\quad \\left(|\\bar{c}_s|^2 = \\frac{\\varepsilon^2}{\\kappa^2 + \\tilde{\\Delta}^2},\\; \\varepsilon = \\sqrt{\\frac{2\\kappa\\mathcal{P}}{\\hbar\\omega_l}}\\right)\n",
    "$$\n",
    "\n",
    "where $\\varepsilon$ is dependent on the drive laser's power $\\mathcal{P}$\n",
    "\n",
    "\n",
    "$$\n",
    "\\bar{n}_{phonon} =  \\frac{1}{2}\\left(<\\delta \\hat{Q}(t)^2> + <\\delta \\hat{P}(t)^2> - 1\\right)\n",
    "$$\n",
    "\n",
    "Removing the $-1$ for the considered parameters didn't lead to any change in the graph.\n",
    "\n",
    "where,\n",
    "\n",
    "$$\n",
    "<\\delta \\hat{Q}(t)^2> = \\frac{1}{2\\pi}\\int_{-\\infty}^{\\infty}\\tilde{S}_Q(\\omega)d\\omega,\\text{ and } <\\delta \\hat{P}(t)^2> = \\frac{1}{2\\pi}\\int_{-\\infty}^{\\infty}\\tilde{S}_P(\\omega)d\\omega\n",
    "$$\n",
    "\n",
    "The effective temperature of the movable mirror:\n",
    "\n",
    "$$\n",
    "\\begin{align}\n",
    "T_{eff} = \\frac{\\hbar\\omega_m}{k_B\\ln\\left(1 + \\frac{1}{\\bar{n}_{phonon}}\\right)}\\implies \\tilde{T}_{eff} = \\frac{2}{\\ln\\left(1 + \\frac{1}{\\bar{n}_{phonon}}\\right)}\n",
    "\\end{align}\n",
    "$$\n",
    "\n",
    "Where, $\\tilde{T}_{eff} = \\frac{2k_BT_{eff}}{\\hbar \\omega_m}$"
   ]
  },
  {
   "cell_type": "markdown",
   "id": "2dfa48ab",
   "metadata": {},
   "source": [
    "# Libraries"
   ]
  },
  {
   "cell_type": "code",
   "execution_count": 8,
   "id": "7c1b28b1",
   "metadata": {},
   "outputs": [],
   "source": [
    "import numpy as np\n",
    "import scipy.constants as sc\n",
    "from scipy.integrate import quad"
   ]
  },
  {
   "cell_type": "markdown",
   "id": "884eaba9",
   "metadata": {},
   "source": [
    "# Constants (SI)"
   ]
  },
  {
   "cell_type": "code",
   "execution_count": 9,
   "id": "4dd8ea48",
   "metadata": {},
   "outputs": [],
   "source": [
    "hbar = sc.hbar\n",
    "speed_of_light = sc.c       # speed of light in vacuum\n",
    "KB = sc.k                   # Boltzman constant\n",
    "pi = sc.pi\n",
    "iota = complex(0, 1)"
   ]
  },
  {
   "cell_type": "markdown",
   "id": "502444de",
   "metadata": {},
   "source": [
    "# Parameters (SI)\n",
    "\n",
    "mass, $m = 145$ ng, $\\omega_m/2\\pi =947$ MHz, $\\gamma_m \\approx \\omega_m/6700$ Hz, Length, $L = 25$ mm, detuning, $\\tilde{\\Delta} = \\omega_m$, $g_0/2\\pi = \\omega_m\\chi = 2.7$ Hz, wavelength of drive laser, $\\lambda_l = 1064$ nm, Bath temperature, $T = 1$ K. The parameters are taken from, page 11 of Sumei Huang's thesis and Nature 460, 724–727 (2009). https://doi.org/10.1038/nature08171"
   ]
  },
  {
   "cell_type": "code",
   "execution_count": 10,
   "id": "17b7b06c",
   "metadata": {},
   "outputs": [],
   "source": [
    "mass    = 145e-12\n",
    "omega_m = 2*pi*947e3\n",
    "gamma_m_0 = omega_m/6700\n",
    "kappa_0   = 0.2*omega_m\n",
    "bath_temperature = 1\n",
    "length = 25e-3\n",
    "delta_0 = omega_m\n",
    "g_0 = 2*pi*2.7\n",
    "\n",
    "lambda_l = 1064e-9\n",
    "omega_l = 2*pi*speed_of_light/lambda_l"
   ]
  },
  {
   "cell_type": "markdown",
   "id": "7970d4e5",
   "metadata": {},
   "source": [
    "# Note:\n",
    "\n",
    "Notice how, $\\gamma_m<<\\kappa$, i.e., mechanical decays are much smaller than that of their optical counterparts. Thus, encoding the optical state in the mechanical mode can be done to store information for longer durations."
   ]
  },
  {
   "cell_type": "markdown",
   "id": "9a93e820",
   "metadata": {},
   "source": [
    "# Normalized parameters\n",
    "\n",
    "All parameters are normalized w.r.t $\\omega_m$"
   ]
  },
  {
   "cell_type": "code",
   "execution_count": 11,
   "id": "3e17b1fe",
   "metadata": {},
   "outputs": [
    {
     "name": "stdout",
     "output_type": "stream",
     "text": [
      "189756.87508423394\n",
      "0.530511295591508\n",
      "22002.765705731334\n"
     ]
    }
   ],
   "source": [
    "gamma_m = gamma_m_0/omega_m\n",
    "delta = delta_0/omega_m\n",
    "chi = g_0/omega_m\n",
    "\n",
    "power = 100e-3     # 100 micro watts\n",
    "\n",
    "epsilon = np.sqrt(2*kappa_0*power/(hbar*omega_l))\n",
    "c_s = epsilon/(kappa_0 + iota*delta_0)\n",
    "G = chi*omega_m*c_s\n",
    "\n",
    "\n",
    "T_tilde = KB*bath_temperature/(hbar*omega_m)\n",
    "\n",
    "print(epsilon/omega_m)\n",
    "print(np.abs(G/omega_m))\n",
    "print(T_tilde)\n",
    "\n",
    "\n"
   ]
  },
  {
   "cell_type": "markdown",
   "id": "0e08d590",
   "metadata": {},
   "source": [
    "# Main code"
   ]
  },
  {
   "cell_type": "code",
   "execution_count": 12,
   "id": "35db06e6",
   "metadata": {},
   "outputs": [],
   "source": [
    "\n",
    "def S_Q(omega, power, kappa):\n",
    "    \n",
    "    kappa_0 = kappa*omega_m\n",
    "    \n",
    "    power_0 = power*1e-3\n",
    "    \n",
    "    epsilon = np.sqrt(2*kappa_0*power_0/(hbar*omega_l))\n",
    "\n",
    "    G = chi*epsilon/(kappa_0 + iota*delta_0)\n",
    "    \n",
    "    S_RP = 8*np.abs(G)**2*kappa*(kappa**2 + omega**2 + delta**2)/((kappa**2 + (omega - delta)**2)*(kappa**2 + (omega + delta)**2))\n",
    "    \n",
    "    T_tilde = 2*KB*bath_temperature/(hbar*omega_m)\n",
    "    \n",
    "    coth = 1/np.tanh(omega/T_tilde)\n",
    "\n",
    "    S_th = 2*gamma_m*omega*coth\n",
    "\n",
    "    chi_eff = 1/(1 - omega**2 - iota*omega*gamma_m - 4*delta**2*abs(G)**2/(delta**2 + (kappa - iota*omega)**2))\n",
    "\n",
    "    PSD_Q = np.abs(chi_eff)**2*(S_RP + S_th)\n",
    "\n",
    "    return PSD_Q\n",
    "\n",
    "def S_P(omega, power, kappa):\n",
    "    PSD_P = omega*S_Q(omega,power, kappa)\n",
    "    return PSD_P\n",
    "\n",
    "def effective_temperature (power, kappa):\n",
    "    deltaQ_square_avg,_ = quad(S_Q, -np.inf, np.inf, args=(power, kappa))\n",
    "    deltaP_square_avg,_ = quad(S_P, -np.inf, np.inf, args=(power, kappa))\n",
    "\n",
    "\n",
    "    n_phonon = (deltaQ_square_avg/(2*pi) + deltaP_square_avg/(2*pi) - 1)/2\n",
    "\n",
    "    effective_temperature_of_mirror = hbar*omega_m/(KB*np.log(1 + 1/n_phonon))\n",
    "    return effective_temperature_of_mirror\n",
    "#    return n_phonon\n"
   ]
  },
  {
   "cell_type": "code",
   "execution_count": null,
   "id": "e0002864",
   "metadata": {},
   "outputs": [],
   "source": []
  },
  {
   "cell_type": "markdown",
   "id": "9ef88633",
   "metadata": {},
   "source": [
    "# Plotting"
   ]
  },
  {
   "cell_type": "code",
   "execution_count": 13,
   "id": "dcee363e",
   "metadata": {},
   "outputs": [
    {
     "name": "stderr",
     "output_type": "stream",
     "text": [
      "C:\\Users\\nilam\\AppData\\Local\\Temp\\ipykernel_19656\\1402065911.py:30: IntegrationWarning: The maximum number of subdivisions (50) has been achieved.\n",
      "  If increasing the limit yields no improvement it is advised to analyze \n",
      "  the integrand in order to determine the difficulties.  If the position of a \n",
      "  local difficulty can be determined (singularity, discontinuity) one will \n",
      "  probably gain from splitting up the interval and calling the integrator \n",
      "  on the subranges.  Perhaps a special-purpose integrator should be used.\n",
      "  deltaQ_square_avg,_ = quad(S_Q, -np.inf, np.inf, args=(power, kappa))\n"
     ]
    },
    {
     "data": {
      "image/png": "[encoded data removed]",
      "text/plain": [
       "<Figure size 640x480 with 1 Axes>"
      ]
     },
     "metadata": {},
     "output_type": "display_data"
    }
   ],
   "source": [
    "import matplotlib.pyplot as plt\n",
    "from matplotlib import ticker          # for formating axis ticks in scientific notation\n",
    "\n",
    "# enable TeX fonts\n",
    "plt.rcParams['text.usetex'] = True\n",
    "\n",
    "# Define tan array to store power\n",
    "x = np.linspace(0, 0.5, 500)\n",
    "\n",
    "# Define an array to store temperature values\n",
    "y = np.zeros(x.size)\n",
    "\n",
    "\n",
    "kappa_s_and_linestyles = [(0.2,'-'), (0.5,'--'), (1,':'), (1.5,'-.')]  # deltas and linestyles\n",
    "\n",
    "# Plot the function for each set of parameters\n",
    "for kappa, linestyle in kappa_s_and_linestyles:\n",
    "    for index, item in enumerate(x):\n",
    "        y[index] = effective_temperature (item, kappa)\n",
    "\n",
    "    plt.plot(x, y, label = r'$\\kappa= %g\\; \\omega_m$' % kappa if kappa!=1 else r'$\\kappa= \\omega_m$', linestyle=linestyle)\n",
    "    \n",
    "# Plot the zero line\n",
    "plt.axhline(y=0, color='black', linestyle=':', linewidth=0.5)  # Add zero line\n",
    "\n",
    "\n",
    "# Add labels and legend\n",
    "plt.xlabel(r'$\\mathcal{P}\\; (mW)$', fontsize = 15)\n",
    "plt.ylabel(r'$T_{eff} (K)$', fontsize = 15)\n",
    "plt.legend(loc=\"upper right\", fontsize = 15)\n",
    "\n",
    "# axis ticks\n",
    "#plt.xticks(np.arange(-2, 2.1, 1))\n",
    "#plt.yticks(np.arange(0, 1, 0.2))\n",
    "plt.xticks(fontsize = 15)\n",
    "plt.yticks(fontsize = 15)\n",
    "\n",
    "\n",
    "# Formatting y-axis ticks in scientific notation\n",
    "formatter = ticker.ScalarFormatter(useMathText=True)\n",
    "formatter.set_scientific(True)\n",
    "formatter.set_powerlimits((-2, 2))\n",
    "plt.gca().yaxis.set_major_formatter(formatter)\n",
    "plt.gca().xaxis.set_major_formatter(formatter)\n",
    "\n",
    "# save the plot to a file\n",
    "plt.savefig('figure8.png')\n",
    "\n",
    "\n",
    "plt.show()\n"
   ]
  },
  {
   "cell_type": "code",
   "execution_count": null,
   "id": "e3185f24",
   "metadata": {},
   "outputs": [],
   "source": []
  }
 ],
 "metadata": {
  "kernelspec": {
   "display_name": "Python 3 (ipykernel)",
   "language": "python",
   "name": "python3"
  },
  "language_info": {
   "codemirror_mode": {
    "name": "ipython",
    "version": 3
   },
   "file_extension": ".py",
   "mimetype": "text/x-python",
   "name": "python",
   "nbconvert_exporter": "python",
   "pygments_lexer": "ipython3",
   "version": "3.11.5"
  }
 },
 "nbformat": 4,
 "nbformat_minor": 5
}
