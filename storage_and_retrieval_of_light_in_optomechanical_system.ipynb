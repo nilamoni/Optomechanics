{
 "cells": [
  {
   "cell_type": "markdown",
   "id": "587aa0ba",
   "metadata": {},
   "source": [
    "# Storage and retrieval of light in optomechanical system"
   ]
  },
  {
   "cell_type": "markdown",
   "id": "339f7d41",
   "metadata": {},
   "source": [
    "## Hamiltonian\n",
    "$$\n",
    "\\begin{equation}\n",
    "\\boxed{\\hat{H} = \\hbar\\Delta\\hat{a}^\\dagger\\hat{a} +\\hbar\\omega_m\\hat{b}^\\dagger\\hat{b}  - \\hbar g_0\\hat{a}^\\dagger\\hat{a}\\left(\\hat{b}^\\dagger + \\hat{b}\\right) + i\\hbar\\varepsilon_l\\left(a^\\dagger  -\\hat{a}\\right) + i\\hbar\\varepsilon_p\\left(a^\\dagger e^{-i(\\omega_p - \\omega_l) t} -\\hat{a}e^{i(\\omega_p - \\omega_l) t}\\right)}\n",
    "\\end{equation}\n",
    "$$\n",
    "\n",
    "where,\n",
    "\n",
    "$$\n",
    "\\begin{equation}\n",
    "\\tilde{\\Delta} = \\Delta - g_0\\left(\\beta+\\beta^*\\right)\\quad\\left(\\Delta = \\omega_0 - \\omega_l\\right)\n",
    "\\end{equation}\n",
    "$$\n",
    "\n",
    "## Heisenberg's equations of motion\n",
    "\n",
    "$$\n",
    "\\partial_t\\hat{x} = \\frac{i}{\\hbar}[\\hat{H}, \\hat{x}]\n",
    "$$\n",
    "\n",
    "Using relations, $[\\hat{a}^\\dagger\\hat{a}, \\hat{a}] = -\\hat{a}$, $[\\hat{a}^\\dagger, \\hat{a}] = 1$ and $[\\hat{x}^\\dagger\\hat{x}, \\hat{y}] =0$\n",
    "\n",
    "\n",
    "$$\n",
    "\\begin{align}\n",
    "\\frac{d\\hat{a}}{dt} &= -\\left(\\frac{\\kappa}{2} + i\\Delta\\right)\\hat{a} + ig_0\\hat{a}\\left(\\hat{b}^\\dagger + \\hat{b}\\right) -\\varepsilon_l -\\varepsilon_p e^{-i(\\omega_p - \\omega_l) t}\\\\\n",
    "%\n",
    "\\frac{d\\hat{b}}{dt} &= -\\left(\\frac{\\gamma_m}{2} + i\\omega_m\\right)\\hat{b} + i g_0\\hat{a}^\\dagger\\hat{a} \n",
    "\\end{align}\n",
    "$$\n",
    "\n",
    "We make the following substitutions \n",
    "%\n",
    "$$\n",
    "\\begin{align}\n",
    "\t<\\hat{a}> \\approx \\alpha + \\alpha_+e^{-i(\\omega_p -\\omega_l)t}  \\quad\\text{ and }\\quad<\\hat{b}> \\approx \\beta + \\beta_+e^{-i(\\omega_p -\\omega_l)t}\\label{eq:linearization_approximation_1}\n",
    "\\end{align}\n",
    "$$\n",
    "\n",
    "and apply a rotating wave approximation. This finally gives us the following equations:\n",
    "\n",
    "$$\n",
    "\\begin{align}\n",
    "\t\\frac{d\\alpha_+}{dt} &= -\\left(\\frac{\\kappa}{2}  -i \\Delta_x\\right)\\alpha_+ + iG(t)\\beta_+ + \\varepsilon_p(t)\\\\\n",
    "\t%\t\n",
    "\t\\frac{d\\beta_+}{dt} &= -\\left(\\frac{\\gamma_m}{2} -i \\Delta_y\\right) \\beta_+ + iG^*(t)\\alpha_+\n",
    "\\end{align}\n",
    "$$\n",
    "\n",
    "where, $G(t) = \\alpha(t)g_0$ and\n",
    "\n",
    "$$\n",
    "\\begin{align}\n",
    "\t\\Delta_x &= \\omega_p - \\omega_l - \\Delta\\\\\n",
    "\t%\n",
    "\t\\Delta_y &= \\omega_p - \\omega_l - \\omega_m\n",
    "\\end{align}\n",
    "$$\n",
    "\n",
    "and $\\Delta = \\omega_0 - \\omega_l - 2\\frac{|a_0|^2 g^2}{\\omega_m}$.\n",
    "\n",
    "The solutions of the equation are used to achieve ``\\textit{storage and retrieval}\" of a probe pulse. The probe pulse is taken as a Gaussian pulse is tuned to cavity resonance frequency, $\\omega_0$:\n",
    "%\n",
    "$$\n",
    "\\begin{equation}\n",
    "\t\\varepsilon_p(t) \\propto \\exp\\left[-\\frac{\\left(t - t_{\\text{write}}\\right)^2}{2\\sigma_p^2}\\right]\n",
    "\\end{equation}\n",
    "$$\n",
    "\n",
    "and the control pulses (write and read) are taken to be Gaussian pulses and is turned at a frequency, which is lesser than the cavity resonance frequency by $\\omega_m$:\n",
    "\n",
    "$$\n",
    "\\begin{equation}\n",
    "\tG(t) \\propto \\exp\\left[-\\frac{\\left(t - t_{\\text{write}}\\right)^2}{2\\sigma_c^2}\\right] + \\exp\\left[-\\frac{\\left(t - t_{\\text{read}}\\right)^2}{2\\sigma_c^2}\\right]\n",
    "\\end{equation}\n",
    "$$\n",
    "\n",
    "Here, $\\sigma_{p(c)}$ are the widths of probe(control) pulse and $t_{\\text{write}}$, $t_{\\text{read}}$ are the writing and reading times."
   ]
  },
  {
   "cell_type": "markdown",
   "id": "3c615343",
   "metadata": {},
   "source": [
    "# Libraries"
   ]
  },
  {
   "cell_type": "code",
   "execution_count": 17,
   "id": "aa54b123",
   "metadata": {},
   "outputs": [],
   "source": [
    "import numpy as np\n",
    "from scipy.integrate import solve_ivp\n",
    "import scipy.constants as sc"
   ]
  },
  {
   "cell_type": "markdown",
   "id": "3ed1b964",
   "metadata": {},
   "source": [
    "# Constants"
   ]
  },
  {
   "cell_type": "code",
   "execution_count": 18,
   "id": "f19d7dd4",
   "metadata": {},
   "outputs": [],
   "source": [
    "iota = complex(0,1)\n",
    "pi = sc.pi\n",
    "hbar = sc.hbar\n",
    "speed_of_light = sc.c"
   ]
  },
  {
   "cell_type": "markdown",
   "id": "5a27cd76",
   "metadata": {},
   "source": [
    "# Parameters"
   ]
  },
  {
   "cell_type": "markdown",
   "id": "fbd5c622",
   "metadata": {},
   "source": [
    "## Decay rates\n",
    "$\\kappa = 2\\pi\\times1.5$ MHz, $\\gamma_m =2\\pi\\times41$ KHz, \n",
    "\n",
    "## Frequencies\n",
    "$\\omega_m = 2\\pi\\times51.8$ MHz, $\\Delta = \\omega_m$.\n",
    "$\\omega_p = \\omega_0$, $\\omega_l = \\omega_0 - \\omega_m$\n",
    "\n",
    "## Other parameters\n",
    "$\\lambda_l = 775$ nm, drive power, $\\mathcal{P}_l = 1$ mW, $g_0 = 2\\pi\\times 1.55$ KHz\n",
    "\n",
    "## Times\n",
    "$\\sigma_p = \\sigma_c = 0.3$ $\\mu$s,\n",
    "$\\tau_{\\text{write}} = 10\\kappa$,\n",
    "$\\tau_{\\text{read}} = 40\\kappa$"
   ]
  },
  {
   "cell_type": "code",
   "execution_count": 19,
   "id": "43f6d73c",
   "metadata": {},
   "outputs": [],
   "source": [
    "# Decay rates\n",
    "gamma_m_0 = 2*pi*41e3\n",
    "kappa_0 = 2*pi*1.5e6\n",
    "\n",
    "# Frequencies\n",
    "lambda_l = 775e-9\n",
    "omega_l_0 = 2*pi*speed_of_light/lambda_l\n",
    "omega_m_0 = 2*pi*51.8e6\n",
    "omega_p_0 = omega_0\n",
    "omega_c_0 = omega_m_0 + omega_l_0\n",
    "\n",
    "g_0 = 2*pi*1.55e3\n",
    "\n",
    "# detuning\n",
    "delta_0    = omega_m_0\n",
    "\n",
    "# field amplitudes\n",
    "power = 1e-3     # power of control (1 milli watts)\n",
    "\n",
    "epsilon_l_0 = np.sqrt(2*kappa_0*power/(hbar*omega_l_0))\n",
    "epsilon_p_0 = np.sqrt(2*kappa_0*power*1e-4/(hbar*omega_p_0))"
   ]
  },
  {
   "cell_type": "code",
   "execution_count": 20,
   "id": "16226ee5",
   "metadata": {},
   "outputs": [
    {
     "name": "stdout",
     "output_type": "stream",
     "text": [
      "28773.448762462736 883041.2226896192 2.827433388230814 1.061032953945969e-06 4.244131815783876e-06\n"
     ]
    }
   ],
   "source": [
    "# gamma_m  = gamma_m_0/kappa_0\n",
    "# kappa    = kappa_0/kappa_0\n",
    "# g        = g_0/kappa_0     \n",
    "# omega_m  = omega_m_0/kappa_0\n",
    "\n",
    "\n",
    "print(epsilon_l_0/kappa_0, epsilon_p_0/kappa_0, 0.3e-6*kappa_0, 10/kappa_0, 40/kappa_0)"
   ]
  },
  {
   "cell_type": "markdown",
   "id": "68dd7b98",
   "metadata": {},
   "source": [
    "# Parameters normalized w.r.t $\\kappa$"
   ]
  },
  {
   "cell_type": "code",
   "execution_count": 21,
   "id": "1ab5f602",
   "metadata": {},
   "outputs": [],
   "source": [
    "# field amplitudes\n",
    "E_0_c = 2.876366e4\n",
    "#E_0_p = 2.876366e4\n",
    "E_0_p = 8.8304122269e6\n",
    "\n",
    "g_0 = 1.033e-3\n",
    "\n",
    "# decay rates\n",
    "kappa = 1\n",
    "gamma_m = 0.027\n",
    "\n",
    "# frequencies\n",
    "omega_m = 34.533\n",
    "omega_l = 2.5806e8\n",
    "omega_p = omega_0               # probe frequency\n",
    "\n",
    "# detuning\n",
    "delta    = omega_m\n",
    "delta_x  = (omega_p - omega_l - delta)\n",
    "delta_y  = (omega_p - omega_l - omega_m)\n",
    "\n",
    "# cavity resonance frequency\n",
    "omega_0 = omega_l + delta     # cavity resonance frequency\n",
    "\n",
    "\n",
    "# times\n",
    "t_write  = 10\n",
    "t_read   = 40\n",
    "tau_p    = 2.82740\n",
    "tau_l    = 2.82740"
   ]
  },
  {
   "cell_type": "markdown",
   "id": "3861469c",
   "metadata": {},
   "source": [
    "# Define the functions"
   ]
  },
  {
   "cell_type": "code",
   "execution_count": 22,
   "id": "5d402157",
   "metadata": {},
   "outputs": [],
   "source": [
    "# Define the function for the time-dependent Gaussian function\n",
    "def gaussian(t, center, width):\n",
    "    return np.exp(-(t - center)**2/(2*width**2))\n",
    "\n",
    "# Define other functions\n",
    "def G(t):\n",
    "    G_temp_1 = E_0_c*(gaussian(t, t_write, tau_l) + gaussian(t, t_read, tau_l))\n",
    "    G_temp_2 = (G_temp_1/(1 + iota*delta))*g_0\n",
    "    \n",
    "    return G_temp_2\n",
    "\n",
    "def epsilon_p(t):\n",
    "    return E_0_p*gaussian(t, t_write, tau_p)\n",
    "\n",
    "# Define the coupled differential equations\n",
    "def equations(t, y):\n",
    "    dydt = np.zeros(2, dtype=np.complex128)\n",
    "    \n",
    "    dydt[0] = -(kappa - iota*delta_x)*y[0] + iota*G(t)*y[1] - epsilon_p(t)\n",
    "    dydt[1] = -(gamma_m - iota*delta_y)*y[1] + iota*np.conj(G(t))*y[0]\n",
    "\n",
    "    return dydt"
   ]
  },
  {
   "cell_type": "markdown",
   "id": "d75fc02d",
   "metadata": {},
   "source": [
    "# Initial condition and solving the equations"
   ]
  },
  {
   "cell_type": "code",
   "execution_count": 23,
   "id": "41f44670",
   "metadata": {},
   "outputs": [],
   "source": [
    "# Initial conditions\n",
    "y0 = [complex(0,0),complex(0,0)]       # Initial values for y1 and y2\n",
    "t_span = (0, 60)                       # Time span for the solution\n",
    "\n",
    "# Solve the differential equations\n",
    "sol = solve_ivp(equations, t_span, y0, t_eval=np.linspace(t_span[0], t_span[1], 6000))"
   ]
  },
  {
   "cell_type": "markdown",
   "id": "4e91cde0",
   "metadata": {},
   "source": [
    "# plots"
   ]
  },
  {
   "cell_type": "code",
   "execution_count": 24,
   "id": "06464ffd",
   "metadata": {},
   "outputs": [
    {
     "data": {
      "image/png": "[encoded data removed]",
      "text/plain": [
       "<Figure size 800x600 with 4 Axes>"
      ]
     },
     "metadata": {},
     "output_type": "display_data"
    }
   ],
   "source": [
    "import matplotlib.pyplot as plt\n",
    "import matplotlib as mpl\n",
    "import numpy as np\n",
    "\n",
    "# enable TeX fonts\n",
    "plt.rcParams['text.usetex'] = True\n",
    "\n",
    "# Set the global font size for all legends\n",
    "mpl.rcParams['legend.fontsize'] = 15\n",
    "\n",
    "# Set the global font size for all axis labels\n",
    "mpl.rcParams['axes.labelsize'] = 12\n",
    "\n",
    "# Set the global font style for all axis labels\n",
    "plt.rcParams['font.family'] = 'Times New Roman'\n",
    "\n",
    "\n",
    "# Create a figure and axis for the subplots\n",
    "fig, axs = plt.subplots(3, 1, figsize=(8, 6))\n",
    "\n",
    "# define a time vector\n",
    "t = np.linspace(t_span[0], t_span[1], 6000)\n",
    "\n",
    "# Plot the first subplot (top plot)\n",
    "axs[0].plot(t, G(t)/np.max(G(t)), label=r'$\\varepsilon_c(t)$', color='blue')\n",
    "axs[0].set_title('(a) Control/drive field (writing pulse and reading pulse)')\n",
    "axs[0].set_xlabel('Normalized time')\n",
    "axs[0].set_ylabel('Normalized amplitude')\n",
    "axs[0].legend()\n",
    "\n",
    "# Plot the second subplot (middle plot)\n",
    "axs[1].plot(t, epsilon_p(t)/np.max(epsilon_p(t)), label=r'$\\varepsilon_p(t)$', color='red')\n",
    "axs[1].set_title('(b) Probe/Signal pulse')\n",
    "axs[1].set_xlabel('Normalized time')\n",
    "axs[1].set_ylabel('Normalized amplitude')\n",
    "axs[1].legend()\n",
    "\n",
    "# plot the third subplot (bottom plot)\n",
    "y1 = np.abs(sol.y[0])\n",
    "y2 = np.abs(sol.y[1])\n",
    "\n",
    "# Plot data on the first y-axis\n",
    "axs[2].plot(t, y1/np.max(np.abs(y1)), 'b-')\n",
    "axs[2].set_title('(c) Intra-cavity field and mechanical mode amplitude')\n",
    "axs[2].set_xlabel('Normalized time')\n",
    "axs[2].set_ylabel(r'$|\\alpha_+(t)|$', color='b', fontsize = 15)\n",
    "\n",
    "# Duplicate the x-axis for the second y-axis\n",
    "axs2_dup = axs[2].twinx()\n",
    "\n",
    "# Plot data on the second y-axis\n",
    "axs2_dup.plot(t, y2/np.max(np.abs(y2)), 'r-')\n",
    "axs2_dup.set_ylabel(r'$|\\beta_+(t)|$', color='r', fontsize = 15)\n",
    "\n",
    "\n",
    "# Adjust the layout to prevent overlap\n",
    "plt.tight_layout()\n",
    "\n",
    "# save the plot to a file\n",
    "plt.savefig('figure9.png', dpi=300)\n",
    "\n",
    "# Show the plots\n",
    "plt.show()\n",
    "\n"
   ]
  },
  {
   "cell_type": "code",
   "execution_count": null,
   "id": "0bb69cb1",
   "metadata": {},
   "outputs": [],
   "source": []
  }
 ],
 "metadata": {
  "kernelspec": {
   "display_name": "Python 3 (ipykernel)",
   "language": "python",
   "name": "python3"
  },
  "language_info": {
   "codemirror_mode": {
    "name": "ipython",
    "version": 3
   },
   "file_extension": ".py",
   "mimetype": "text/x-python",
   "name": "python",
   "nbconvert_exporter": "python",
   "pygments_lexer": "ipython3",
   "version": "3.11.5"
  }
 },
 "nbformat": 4,
 "nbformat_minor": 5
}
