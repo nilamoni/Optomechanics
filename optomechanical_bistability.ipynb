{
 "cells": [
  {
   "cell_type": "markdown",
   "id": "2496b8c0",
   "metadata": {},
   "source": [
    "# Libraries"
   ]
  },
  {
   "cell_type": "code",
   "execution_count": 2,
   "id": "ea07b53f",
   "metadata": {},
   "outputs": [],
   "source": [
    "import numpy as np\n",
    "import matplotlib.pyplot as plt"
   ]
  },
  {
   "cell_type": "markdown",
   "id": "ebf8524b",
   "metadata": {},
   "source": [
    "# Parameters"
   ]
  },
  {
   "cell_type": "code",
   "execution_count": 3,
   "id": "b6162bd2",
   "metadata": {},
   "outputs": [],
   "source": [
    "g_0 = 0.99\n",
    "kappa = 0.15\n",
    "eps = 5\n",
    "n = 5000 # number of points in the detuning axis"
   ]
  },
  {
   "cell_type": "markdown",
   "id": "08f83cf0",
   "metadata": {},
   "source": [
    "The cubic equation in terms of $N_0$ is:\n",
    "\n",
    "$$\n",
    "N_0^3 - \\frac{\\Delta}{\\chi^2 } N_0^2 + N_0\\left(\\frac{\\kappa^2 + \\Delta^2}{4\\chi^4 }\\right) - \\frac{\\varepsilon^2}{4\\chi^4 } = 0\n",
    "$$\n",
    "\n",
    "The above equation will cause problem if we put, $\\chi = 0$, therefore its better to use the equation below:\n",
    "\n",
    "$$\n",
    "\\chi^4 N_0^3 - \\Delta\\chi^2 N_0^2 + N_0\\left(\\frac{\\kappa^2 + \\Delta^2}{4}\\right) - \\frac{\\varepsilon^2}{4} = 0\n",
    "$$\n",
    "\n",
    "where, $N_0 = |c_s|^2$\n",
    "\n",
    "In the code, $\\chi$ is replaced by $g_0$"
   ]
  },
  {
   "cell_type": "markdown",
   "id": "48404cee",
   "metadata": {},
   "source": [
    "# Main code"
   ]
  },
  {
   "cell_type": "markdown",
   "id": "f7dcfcba",
   "metadata": {},
   "source": [
    "Using equation:\n",
    "\n",
    "$$\n",
    "\\chi^4 N_0^3 - \\Delta\\chi^2 N_0^2 + N_0\\left(\\frac{\\kappa^2 + \\Delta^2}{4}\\right) - \\frac{\\varepsilon^2}{4} = 0\n",
    "$$"
   ]
  },
  {
   "cell_type": "code",
   "execution_count": 4,
   "id": "0b5fcfc2",
   "metadata": {},
   "outputs": [],
   "source": [
    "# define an empty array to store the roots of the cubic polynomial\n",
    "cubic_roots = [[0]*3 for i in range(n)]\n",
    "\n",
    "# define an array to store the values of detunings\n",
    "detuning = np.linspace(-20, 20, n)\n",
    "\n",
    "for index, delta in enumerate(detuning):\n",
    "    a = g_0**4\n",
    "    b = -delta*g_0**3\n",
    "    c = (kappa**2 + delta**2)/4\n",
    "    d = -eps**2/4\n",
    "    coeff = [a, b, c, d]\n",
    "    cubic_roots[index] = np.roots(coeff)"
   ]
  },
  {
   "cell_type": "markdown",
   "id": "2184c5e8",
   "metadata": {},
   "source": [
    "# Collect only the real roots"
   ]
  },
  {
   "cell_type": "code",
   "execution_count": 5,
   "id": "adf5e3b1",
   "metadata": {},
   "outputs": [],
   "source": [
    "real_roots = [[0]*3 for i in range(n)]\n",
    "for index, roots in enumerate(cubic_roots):\n",
    "    if roots[0].imag == 0.0:\n",
    "        real_roots[index][0] = roots[0].real\n",
    "    if roots[1].imag == 0.0:\n",
    "        real_roots[index][1] = roots[1].real\n",
    "    if roots[2].imag == 0.0:\n",
    "        real_roots[index][2] = roots[2].real\n"
   ]
  },
  {
   "cell_type": "code",
   "execution_count": null,
   "id": "99f172c0",
   "metadata": {},
   "outputs": [],
   "source": []
  },
  {
   "cell_type": "code",
   "execution_count": 6,
   "id": "b86ed9bc",
   "metadata": {},
   "outputs": [],
   "source": [
    "third_root = [0 for i in range(n)]\n",
    "second_root = [0 for i in range(n)]\n",
    "first_root = [0 for i in range(n)]\n",
    "\n",
    "for index, roots in enumerate(real_roots):\n",
    "    third_root[index] = roots[2]\n",
    "    second_root[index] = roots[1]\n",
    "    first_root[index] = roots[0]"
   ]
  },
  {
   "cell_type": "markdown",
   "id": "a02c79ff",
   "metadata": {},
   "source": [
    "# Convert the lists to arrays"
   ]
  },
  {
   "cell_type": "code",
   "execution_count": 7,
   "id": "679b006b",
   "metadata": {},
   "outputs": [],
   "source": [
    "third_root = np.array(third_root).astype(np.float32)\n",
    "second_root = np.array(second_root).astype(np.float32)\n",
    "first_root = np.array(first_root).astype(np.float32)"
   ]
  },
  {
   "cell_type": "markdown",
   "id": "bdf0c3d0",
   "metadata": {},
   "source": [
    "The reason for converting the the above arrays to float is because we want to replace the elements with value 0 by nan. And its not allowed to convert integer zero to nan"
   ]
  },
  {
   "cell_type": "markdown",
   "id": "f19ce67b",
   "metadata": {},
   "source": [
    "# Remove datapoints which are zero"
   ]
  },
  {
   "cell_type": "code",
   "execution_count": 8,
   "id": "e29f22f2",
   "metadata": {},
   "outputs": [],
   "source": [
    "y1 = first_root.copy()\n",
    "y1[first_root == 0.0] = np.nan      # replacing the points which are zero with nan\n",
    "y2 = second_root.copy()\n",
    "y2[second_root == 0.0] = np.nan      # replacing the points which are zero with nan\n",
    "y3 = third_root.copy()\n",
    "y3[third_root == 0.0] = np.nan      # replacing the points which are zero with nan"
   ]
  },
  {
   "cell_type": "markdown",
   "id": "2497f118",
   "metadata": {},
   "source": [
    "# Plotting"
   ]
  },
  {
   "cell_type": "code",
   "execution_count": 9,
   "id": "5670c21b",
   "metadata": {},
   "outputs": [
    {
     "data": {
      "image/png": "[encoded data removed]",
      "text/plain": [
       "<Figure size 640x480 with 1 Axes>"
      ]
     },
     "metadata": {},
     "output_type": "display_data"
    }
   ],
   "source": [
    "plt.rcParams['text.usetex'] = True    # command for using LateX text in figures\n",
    "\n",
    "\n",
    "plt.plot(detuning, y1, 'r-.')\n",
    "plt.plot(detuning, y2, 'g--')\n",
    "plt.plot(detuning, y3, 'b-')\n",
    "\n",
    "# Legends\n",
    "plt.legend([\"I\", \"II\", \"III\"], loc=\"upper left\")\n",
    "\n",
    "# axis labels\n",
    "plt.xlabel(r'$\\Delta/\\omega_m$',  fontsize = 15)\n",
    "plt.ylabel(r'$N_0$',  fontsize = 15)\n",
    "\n",
    "# axis ticks\n",
    "plt.xticks(fontsize = 15)\n",
    "plt.yticks(fontsize = 15) \n",
    "\n",
    "# save the plot to a file\n",
    "plt.savefig('figure4.png')\n",
    "\n",
    "plt.show()\n"
   ]
  },
  {
   "cell_type": "code",
   "execution_count": null,
   "id": "f4fb51cd",
   "metadata": {},
   "outputs": [],
   "source": []
  }
 ],
 "metadata": {
  "kernelspec": {
   "display_name": "Python 3 (ipykernel)",
   "language": "python",
   "name": "python3"
  },
  "language_info": {
   "codemirror_mode": {
    "name": "ipython",
    "version": 3
   },
   "file_extension": ".py",
   "mimetype": "text/x-python",
   "name": "python",
   "nbconvert_exporter": "python",
   "pygments_lexer": "ipython3",
   "version": "3.11.5"
  }
 },
 "nbformat": 4,
 "nbformat_minor": 5
}
