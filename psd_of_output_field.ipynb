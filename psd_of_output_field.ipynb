{
 "cells": [
  {
   "cell_type": "markdown",
   "id": "09b15aa0",
   "metadata": {},
   "source": [
    "The power spectral density of the output field is given by:\n",
    "\n",
    "$$\n",
    "S_{\\text{out}}(\\omega) = \\kappa\\left(|V_1(\\omega)|^2 4\\pi\\frac{\\gamma_m\\omega}{\\omega_m}\\left(\\coth\\left[\\frac{\\hbar\\omega}{2K_B T}\\right] - 1\\right) + |F_1(\\omega)|^2\\right)\n",
    "$$\n",
    "\n",
    "where,\n",
    "\n",
    "$$\n",
    "\\begin{align}\n",
    "V_1(\\omega) &= \\frac{-iG\\omega_m\\left(\\kappa-i(\\tilde{\\Delta} + \\omega)\\right)}{d(\\omega)}\\\\\n",
    "%\n",
    "F_1(\\omega) &= \\frac{\\sqrt{2\\kappa}\\left(-2i G^2\\omega_m\\right)}{d(\\omega)}\\\\\n",
    "%\n",
    "d(\\omega) &= \t4  \\tilde{\\Delta}  |G|^2 \\omega_m  +\n",
    "\\left(\\tilde{\\Delta} ^2+(\\kappa -i \\omega )^2\\right)\\left(\\omega^2 -\\omega_m^2  +i \\omega\\gamma_m\\right)\n",
    "\\end{align}\n",
    "$$\n",
    "\n",
    "\n",
    "where, $G = \\chi\\omega_m\\bar{c}_s = g_0\\bar{c}_s= \\omega_m\\tilde{G}\\; (\\tilde{G}= \\chi\\bar{c}_s)$. \n",
    "\n",
    "We put $\\omega= \\omega_m$ and normalized all parameters w.r.t. $\\omega_m$ as follows:\n",
    "\n",
    "Simply replace, $\\kappa = \\omega_m\\kappa$, $\\tilde{\\Delta} = \\omega_m\\tilde{\\Delta}$, $\\gamma_m = \\omega_m\\gamma_m$ and take $\\omega_m$ common.\n",
    "\n",
    "$$\n",
    "\\boxed{d(\\omega_m) = \t\\omega^4_m\\left[4  \\tilde{\\Delta}  |\\tilde{G}|^2  +\n",
    "\\left(\\tilde{\\Delta} ^2 + (\\kappa -i)^2\\right)i\\gamma_m\\right] = \\omega^4_m \\tilde{d}(\\omega_m)}\\\\\n",
    "%\n",
    "V_1(\\omega_m) = \\frac{-i\\tilde{G}\\omega^3_m\\left(\\kappa-i(\\tilde{\\Delta} + 1)\\right)}{d(\\omega_m)} = \\frac{-i\\tilde{G}\\left(\\kappa-i(\\tilde{\\Delta} + 1)\\right)}{\\omega_m\\tilde{d}(\\omega_m)}\\implies \\boxed{|V_1(\\omega_m)|^2 = \\frac{|\\tilde{G}|^2\\left(\\kappa^2 + (\\tilde{\\Delta} + 1)^2\\right)}{\\omega^2_m|\\tilde{d}(\\omega_m)|^2} = \\frac{1}{\\omega^2_m}|\\tilde{V}_1(\\omega_m)|^2}\\\\\n",
    "%\n",
    "F_1(\\omega_m) = \\frac{\\sqrt{2\\kappa \\omega_m}\\left(-2i \\tilde{G}^2\\omega^3_m\\right)}{d(\\omega)} = \\frac{\\sqrt{2\\kappa}\\left(-2i \\tilde{G}^2\\right)}{\\sqrt{\\omega_m} \\tilde{d}(\\omega_m)}\\implies \\boxed{|F_1(\\omega)|^2 = \\frac{8\\kappa|\\tilde{G}|^2}{\\omega_m |\\tilde{d}(\\omega_m)|^2} = \\frac{1}{\\omega_m}|\\tilde{F}_1(\\omega)|^2}\n",
    "%\n",
    "$$\n",
    "\n",
    "$$\n",
    "S_{\\text{out}}(\\omega_m) = \\kappa\\left(|V_1(\\omega_m)|^2 4\\pi\\gamma_m\\omega^2_m\\left(\\coth\\left[\\frac{\\hbar\\omega_m}{2K_B T}\\right] - 1\\right) + \\omega_m|F_1(\\omega_m)|^2\\right)\\\\\n",
    "%\n",
    "\\implies \\boxed{S_{\\text{out}}(\\omega_m)=\\kappa\\left(4\\pi\\gamma_m|\\tilde{V}_1(\\omega_m)|^2\\left(\\coth\\left[\\frac{\\hbar\\omega_m}{2K_B T}\\right] - 1\\right) + |\\tilde{F}_1(\\omega_m)|^2\\right)}\n",
    "$$\n",
    "\n",
    "The above equation in written in terms of dimensionless, $\\kappa$, $\\tilde{\\Delta}$, and $\\gamma_m$. For coding purpose I will write the above equation as:\n",
    "\n",
    "$$\n",
    "S_{\\text{out}}(\\omega_m)=\\kappa\\left(4\\pi\\gamma_m A\\left(\\coth\\left[\\frac{1}{\\tilde{T}}\\right] - 1\\right) + B\\right)\n",
    "$$\n",
    "\n",
    "where,\n",
    "\n",
    "$$\n",
    "\\tilde{T} = \\frac{2K_BT}{\\hbar\\omega_m}, \\quad A = \\frac{|\\tilde{G}|^2\\left(\\kappa^2 + (\\tilde{\\Delta} + 1)^2\\right)}{|\\tilde{d}(\\omega_m)|^2}\\quad \\text{and}\\quad  B = \\frac{8\\kappa|\\tilde{G}|^2}{|\\tilde{d}(\\omega_m)|^2} \n",
    "$$\n",
    "and\n",
    "\n",
    "$$\n",
    "\\tilde{d}(\\omega_m) = 4  \\tilde{\\Delta}  |\\tilde{G}|^2  +\n",
    "\\left(\\tilde{\\Delta} ^2 + (\\kappa -i)^2\\right)i\\gamma_m\n",
    "$$\n",
    "\n",
    "where, $|\\tilde{G}|^2 = \\chi^2|\\bar{c}_s|^2$\n",
    "\n",
    "Parameters: $\\omega_m = 2\\pi\\times10^7$ Hz, $\\kappa = 0.3\\omega_m$, $\\gamma_m = 10^{-5}\\omega_m$, $T = 0.4 K$, $\\tilde{T} \\approx 230$"
   ]
  },
  {
   "cell_type": "code",
   "execution_count": null,
   "id": "33746fd4",
   "metadata": {},
   "outputs": [],
   "source": []
  },
  {
   "cell_type": "code",
   "execution_count": 15,
   "id": "e762c23c",
   "metadata": {},
   "outputs": [
    {
     "data": {
      "image/png": "[encoded data removed]",
      "text/plain": [
       "<Figure size 640x480 with 1 Axes>"
      ]
     },
     "metadata": {},
     "output_type": "display_data"
    }
   ],
   "source": [
    "import matplotlib.pyplot as plt\n",
    "import numpy as np\n",
    "\n",
    "# enable TeX fonts\n",
    "plt.rcParams['text.usetex'] = True\n",
    "\n",
    "\n",
    "# Define the function\n",
    "def S_out(delta, G):\n",
    "    G = g_0 \n",
    "    kappa = 0.3\n",
    "    gamma_m = 1e-5\n",
    "    Temp = 230\n",
    "    iota = complex(0, -1)\n",
    "    \n",
    "    d = 4*delta*np.abs(G)**2 + (delta**2 + (kappa - iota)**2)*iota*gamma_m\n",
    "    \n",
    "    A = (np.abs(G)**2*(kappa**2 + (delta + 1)**2))/np.abs(d)**2\n",
    "    \n",
    "    B = 8*kappa*np.abs(G)**2/np.abs(d)**2\n",
    "    \n",
    "    return kappa*(4*np.pi*gamma_m*A*(1/np.tanh(1/Temp) - 1) + B) \n",
    "\n",
    "# Define the range for x\n",
    "x = np.linspace(-0.5, 0.5, 200)\n",
    "\n",
    "# Define different parameter values\n",
    "kappa = 0.3\n",
    "G_s_and_linestyles = [(0,'-'), (0.6*kappa,'--'), (0.8*kappa,':')]  # G and linestyles\n",
    "\n",
    "# Plot the function for each set of parameters\n",
    "for G, linestyle in G_s_and_linestyles:\n",
    "    y = S_out(x, G)\n",
    "    plt.plot(x, y, label = f'$G=$ {G} $\\omega_m$', linestyle=linestyle)\n",
    "\n",
    "# Plot the zero line\n",
    "plt.axhline(y=0, color='black', linestyle=':', linewidth=0.5)  # Add zero line\n",
    "   \n",
    "# Add labels and legend\n",
    "plt.xlabel(r'$\\tilde{\\Delta}/\\omega_m$', fontsize = 15)\n",
    "plt.ylabel(r'$S$', fontsize = 15)\n",
    "plt.legend(loc=\"upper left\", fontsize = 15)\n",
    "\n",
    "# axis ticks\n",
    "plt.xticks(np.arange(-1, 1, 0.5))\n",
    "#plt.yticks(np.arange(-1, 1.5, 1))\n",
    "plt.xticks(fontsize = 15)\n",
    "plt.yticks(fontsize = 15)  \n",
    "\n",
    "# save the plot to a file\n",
    "plt.savefig('figure7.png')\n",
    "\n",
    "\n",
    "plt.show()\n"
   ]
  },
  {
   "cell_type": "markdown",
   "id": "a1977ddb",
   "metadata": {},
   "source": [
    "## Appendix"
   ]
  },
  {
   "cell_type": "markdown",
   "id": "9ad424f2",
   "metadata": {},
   "source": [
    "$$\n",
    "E_1(\\omega) = \\frac{\\sqrt{2\\kappa}\\left(-2i|G|^2\\omega_m - \\left(\\omega^2_m -\\omega^2 - i\\omega\\gamma_m \\right)\\left(\\kappa-i(\\tilde{\\Delta} + \\omega)\\right)\\right)}{d(\\omega)}\n",
    "$$\n",
    "can be written in terms of dimensionless parameters as:\n",
    "\n",
    "$$\n",
    "E_1(\\omega) = \\frac{\\sqrt{2\\kappa}\\left(-2i|\\tilde{G}|^2 + i\\gamma_m\\left(\\kappa-i(\\tilde{\\Delta} + 1)\\right)\\right)}{\\sqrt{\\omega_m}\\tilde{d}(\\omega_m)}\n",
    "%\n",
    "$$"
   ]
  },
  {
   "cell_type": "code",
   "execution_count": null,
   "id": "2e5495d2",
   "metadata": {},
   "outputs": [],
   "source": []
  }
 ],
 "metadata": {
  "kernelspec": {
   "display_name": "Python 3 (ipykernel)",
   "language": "python",
   "name": "python3"
  },
  "language_info": {
   "codemirror_mode": {
    "name": "ipython",
    "version": 3
   },
   "file_extension": ".py",
   "mimetype": "text/x-python",
   "name": "python",
   "nbconvert_exporter": "python",
   "pygments_lexer": "ipython3",
   "version": "3.11.5"
  }
 },
 "nbformat": 4,
 "nbformat_minor": 5
}
