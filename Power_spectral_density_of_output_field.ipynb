{
 "cells": [
  {
   "cell_type": "markdown",
   "id": "0c5cc870",
   "metadata": {},
   "source": [
    "The power spectral density of the output field is given by:\n",
    "\n",
    "$$\n",
    "S_{\\text{out}}(\\omega) = 2\\kappa\\left(|V_1(\\omega)|^2 4\\pi\\frac{\\gamma_m\\omega}{\\omega_m}\\left(\\coth\\left[\\frac{\\hbar\\omega}{2K_B T}\\right] - 1\\right) + |F_1(\\omega)|^2\\right)\n",
    "$$\n",
    "\n",
    "where,\n",
    "\n",
    "$$\n",
    "\\begin{align}\n",
    "V_1(\\omega) &= \\frac{-iG\\omega_m\\left(\\kappa-i(\\tilde{\\Delta} + \\omega)\\right)}{d(\\omega)}\\\\\n",
    "%\n",
    "F_1(\\omega) &= \\frac{\\sqrt{2\\kappa}\\left(-2i G^2\\omega_m\\right)}{d(\\omega)}\\\\\n",
    "%\n",
    "d(\\omega) &= \t4  \\tilde{\\Delta}  |G|^2 \\omega_m  +\n",
    "\\left(\\tilde{\\Delta} ^2+(\\kappa -i \\omega )^2\\right)\\left(\\omega^2 -\\omega_m^2  +i \\omega\\gamma_m\\right)\n",
    "\\end{align}\n",
    "$$\n",
    "\n",
    "\n",
    "where, $G = \\chi\\omega_m\\bar{c}_s = g_0\\bar{c}_s= \\omega_m\\tilde{G}\\; (\\tilde{G}= \\chi\\bar{c}_s)$. \n",
    "\n",
    "To write $S_{\\text{out}}(\\omega)$ is terms of dimensionless parameters, simply replace, $\\tilde{\\Delta} = \\tilde{\\Delta}\\omega_m$, $\\kappa = \\omega_m\\kappa$, $\\omega = \\omega\\omega_m$, $\\gamma_m = \\omega_m\\gamma_m$ and take $\\omega_m$ common.\n",
    "\n",
    "$$\n",
    "\\boxed{d(\\omega) = \t\\omega^4_m\\left[4 \\tilde{\\Delta}|\\tilde{G}|^2  +\n",
    "\\left(\\tilde{\\Delta}^2 + (\\kappa -i\\omega)^2\\right)\\left(\\omega^2 -1  +i \\omega\\gamma_m\\right)\\right] = \\omega^4_m \\tilde{d}(\\omega)}\\\\\n",
    "%\n",
    "V_1(\\omega) = \\frac{-i\\tilde{G}\\omega^3_m\\left(\\kappa-i(\\tilde{\\Delta} + \\omega)\\right)}{\\omega_m^4\\tilde{d}(\\omega)} = \\frac{-i\\tilde{G}\\left(\\kappa-i(\\tilde{\\Delta} + \\omega)\\right)}{\\omega_m\\tilde{d}(\\omega)}\\implies \\boxed{|V_1(\\omega)|^2 = \\frac{|\\tilde{G}|^2\\left(\\kappa^2 + (\\tilde{\\Delta} + \\omega)^2\\right)}{\\omega^2_m|\\tilde{d}(\\omega)|^2} = \\frac{1}{\\omega^2_m}|\\tilde{V}_1(\\omega)|^2}\\\\\n",
    "%\n",
    "F_1(\\omega) = -2i\\frac{\\sqrt{2\\kappa \\omega_m}\\tilde{G}^2\\omega^3_m}{\\omega_m^4\\tilde{d}(\\omega)} = -2i\\frac{\\sqrt{2\\kappa}\\tilde{G}^2}{\\sqrt{\\omega_m} \\tilde{d}(\\omega)}\\implies \\boxed{|F_1(\\omega)|^2 = \\frac{8\\kappa|\\tilde{G}|^2}{\\omega_m |\\tilde{d}(\\omega)|^2} = \\frac{1}{\\omega_m}|\\tilde{F}_1(\\omega)|^2}\n",
    "%\n",
    "$$\n",
    "\n",
    "$$\n",
    "S_{\\text{out}}(\\omega) = 2\\kappa\\left(|V_1(\\omega)|^2 4\\pi\\gamma_m\\omega\\omega^2_m\\left(\\coth\\left[\\frac{\\omega}{\\frac{2K_B T}{\\hbar\\omega_m}}\\right] - 1\\right) + \\omega_m|F_1(\\omega)|^2\\right)\\\\\n",
    "%\n",
    "\\implies \\boxed{S_{\\text{out}}(\\omega)=2\\kappa\\left(4\\omega\\pi\\gamma_m|\\tilde{V}_1(\\omega)|^2\\left(\\coth\\left[\\frac{\\omega}{\\tilde{T}}\\right] - 1\\right) + |\\tilde{F}_1(\\omega)|^2\\right)}\n",
    "$$\n",
    "\n",
    "The above equation in written in terms of dimensionless, $\\tilde{\\Delta}$, $\\kappa$, $\\omega$, and $\\gamma_m$. For coding purpose I will write the above equation as:\n",
    "\n",
    "$$\n",
    "S_{\\text{out}}(\\omega)=2\\kappa\\left(4\\pi\\gamma_m\\omega A\\left(\\coth\\left[\\frac{\\omega}{\\tilde{T}}\\right] - 1\\right) + B\\right)\n",
    "$$\n",
    "\n",
    "where,\n",
    "\n",
    "$$\n",
    "\\tilde{T} = \\frac{2K_BT}{\\hbar\\omega_m}, \\quad A = \\frac{|\\tilde{G}|^2\\left(\\kappa^2 + (\\tilde{\\Delta}^2 + \\omega)^2\\right)}{|\\tilde{d}(\\omega)|^2}\\quad \\text{and}\\quad  B = \\frac{8\\kappa|\\tilde{G}|^2}{|\\tilde{d}(\\omega)|^2} \n",
    "$$\n",
    "and\n",
    "\n",
    "$$\n",
    "\\tilde{d}(\\omega_m) = 4\\tilde{\\Delta}|\\tilde{G}|^2  +\n",
    "\\left( \\tilde{\\Delta}^2 + (\\kappa -i\\omega)^2\\right)\\left(\\omega^2 -1  +i \\omega\\gamma_m\\right)\n",
    "$$\n",
    "\n",
    "where,\n",
    "\n",
    "$$\n",
    "|\\tilde{G}|^2 = \\chi^2|\\bar{c}_s|^2 = \\chi^2\\frac{\\varepsilon^2}{\\kappa^2 + \\tilde{\\Delta}^2}\\quad \\left(|\\bar{c}_s|^2 = \\frac{\\varepsilon^2}{\\kappa^2 + \\tilde{\\Delta}^2},\\; \\varepsilon = \\sqrt{\\frac{2\\kappa\\mathcal{P}}{\\hbar\\omega_l}}\\right)\n",
    "$$\n",
    "\n",
    "Therefore, for a given $\\tilde{\\Delta}$, $|\\tilde{G}|^2$ is simply a constant.\n"
   ]
  },
  {
   "cell_type": "markdown",
   "id": "632e393d",
   "metadata": {},
   "source": [
    "# Doubt!\n",
    "Why is $S_{out}$ dimensionless and not $s^{-1}$"
   ]
  },
  {
   "cell_type": "code",
   "execution_count": 49,
   "id": "b4917901",
   "metadata": {},
   "outputs": [],
   "source": [
    "import numpy as np\n",
    "import scipy.constants as sc"
   ]
  },
  {
   "cell_type": "markdown",
   "id": "a53542b0",
   "metadata": {},
   "source": [
    "# Constants (In SI)"
   ]
  },
  {
   "cell_type": "code",
   "execution_count": 50,
   "id": "2b345d2c",
   "metadata": {},
   "outputs": [],
   "source": [
    "hbar = sc.hbar\n",
    "speed_of_light = sc.c       # speed of light in vacuum\n",
    "KB = sc.k                   # Boltzman constant\n",
    "pi = sc.pi\n",
    "iota = complex(0,1)"
   ]
  },
  {
   "cell_type": "markdown",
   "id": "26459140",
   "metadata": {},
   "source": [
    "# Parameters\n",
    "mass, $m = 145$ ng, $\\omega_m/2\\pi =947$ MHz, $\\gamma_m \\approx \\omega_m/6700$ Hz, $\\kappa/\\omega_m = 0.2$, Length, $L = 25$ mm, detuning, $\\tilde{\\Delta} = \\omega_m$, $g_0/2\\pi = \\omega_m\\chi = 2.7$ Hz, wavelength of drive laser, $\\lambda_l = 1064$ nm. The parameters are taken from, page 11 of Sumei Huang's thesis and Nature 460, 724–727 (2009). https://doi.org/10.1038/nature08171\n",
    "\n",
    "OR\n",
    "\n",
    "Length = 1 mm,mass = 5 ng, $\\omega_m = 2\\pi\\times 10^7$ Hz, $\\lambda = 810$ nm, $\\kappa = 0.3 \\omega_m$, $\\gamma_m = 100$ Hz, drive laser power, $\\mathcal{P} = 4$ mW"
   ]
  },
  {
   "cell_type": "code",
   "execution_count": 51,
   "id": "97f45fd3",
   "metadata": {},
   "outputs": [],
   "source": [
    "mass    = 145e-12\n",
    "omega_m = 2*pi*947e3\n",
    "gamma_m_0 = omega_m/6700\n",
    "kappa_0   = 0.2*omega_m\n",
    "bath_temperature = 0.4\n",
    "length = 25e-3\n",
    "g_0 = 2*pi*2.7\n",
    "\n",
    "lambda_l = 1064e-9\n",
    "omega_l = 2*pi*speed_of_light/lambda_l\n",
    "power_0 = 4e-3"
   ]
  },
  {
   "cell_type": "code",
   "execution_count": 52,
   "id": "56f0d45d",
   "metadata": {},
   "outputs": [],
   "source": [
    "# mass    = 5e-12\n",
    "# omega_m = 2*pi*1e7\n",
    "# gamma_m_0 = 100\n",
    "# kappa_0   = 0.2*omega_m\n",
    "# bath_temperature = 0.4\n",
    "# length = 1e-3\n",
    "# g_0 = 2*pi*1e2\n",
    "\n",
    "# lambda_l = 810e-9\n",
    "# omega_l = 2*pi*speed_of_light/lambda_l\n",
    "# power_0 = 4e-3"
   ]
  },
  {
   "cell_type": "markdown",
   "id": "794e57f4",
   "metadata": {},
   "source": [
    "# Note:\n",
    "The value of optomechanical coupling constant, $g_0$ seems to affect the shape of the graph a lot."
   ]
  },
  {
   "cell_type": "markdown",
   "id": "5cd9477d",
   "metadata": {},
   "source": [
    "# Normalized parameters"
   ]
  },
  {
   "cell_type": "code",
   "execution_count": 53,
   "id": "01b7341e",
   "metadata": {},
   "outputs": [],
   "source": [
    "kappa = kappa_0/omega_m\n",
    "gamma_m = gamma_m_0/omega_m\n",
    "chi = g_0/omega_m"
   ]
  },
  {
   "cell_type": "markdown",
   "id": "eeca1760",
   "metadata": {},
   "source": [
    "# Main code"
   ]
  },
  {
   "cell_type": "code",
   "execution_count": 54,
   "id": "6413b674",
   "metadata": {},
   "outputs": [
    {
     "data": {
      "image/png": "[encoded data removed]",
      "text/plain": [
       "<Figure size 640x480 with 1 Axes>"
      ]
     },
     "metadata": {},
     "output_type": "display_data"
    }
   ],
   "source": [
    "import matplotlib.pyplot as plt\n",
    "from matplotlib import ticker\n",
    "import numpy as np\n",
    "import scipy.constants as sc\n",
    "\n",
    "# enable TeX fonts\n",
    "plt.rcParams['text.usetex'] = True\n",
    "\n",
    "\n",
    "# Define the function\n",
    "def S_out(omega, delta):\n",
    "    delta_0 = delta*omega_m\n",
    "\n",
    "    epsilon = np.sqrt(2*kappa_0*power_0/(hbar*omega_l))\n",
    "    G = chi*epsilon/(kappa_0 + iota*delta_0)\n",
    "\n",
    "    d = 4*np.abs(G)**2 + (delta**2 + (kappa - iota*omega)**2)*(omega**2 - 1 + iota*gamma_m*omega)\n",
    "    \n",
    "    A = (np.abs(G)**2*(kappa**2 + (delta + omega)**2))/np.abs(d)**2\n",
    "    \n",
    "    B = 8*kappa*np.abs(G)**2/np.abs(d)**2\n",
    "    \n",
    "    T_tilde = 2*KB*bath_temperature/(hbar*omega_m)\n",
    "    \n",
    "    coth = 1/np.tanh(omega/T_tilde)\n",
    "    \n",
    "    return kappa*(4*pi*omega*gamma_m*A*(coth) + B) \n",
    "\n",
    "# Define the range for omega\n",
    "x = np.linspace(-4, 4, 3000)\n",
    "\n",
    "# Define different parameter values\n",
    "\n",
    "delta_s_and_linestyles = [(1,'-'), (-1,':')]  # deltas and linestyles\n",
    "\n",
    "# Plot the function for each set of parameters\n",
    "for delta, linestyle in delta_s_and_linestyles:\n",
    "    if delta == 0:\n",
    "        y = S_out(x, delta)\n",
    "        plt.plot(x, y, label = r'$\\tilde{\\Delta}= 0$' , linestyle=linestyle)\n",
    "    elif delta == 1:\n",
    "        y = S_out(x, delta)\n",
    "        plt.plot(x, y, label = r'$\\tilde{\\Delta}= \\omega_m$', linestyle=linestyle)\n",
    "    elif delta == -1:\n",
    "        y = S_out(x, delta)\n",
    "        plt.plot(x, y, label = r'$\\tilde{\\Delta}= -\\omega_m$', linestyle=linestyle)\n",
    "    else:\n",
    "        y = S_out(x, delta)\n",
    "        plt.plot(x, y, label = r'$\\tilde{\\Delta}=%g\\;\\omega_m$' %delta, linestyle=linestyle)\n",
    "\n",
    "#        plt.plot(x, y, label = r'$\\tilde{\\Delta}= %g\\; \\omega_m$' % delta if delta != 1 else r'$\\tilde{\\Delta}=%g\\omega_m$', linestyle=linestyle)\n",
    "\n",
    "#if delta != 1 else r'$\\tilde{\\Delta}=%g\\omega_m$',\n",
    "\n",
    "# Plot the zero line\n",
    "plt.axhline(y=0, color='black', linestyle=':', linewidth=0.5)  # Add zero line\n",
    "   \n",
    "# Add labels and legend\n",
    "plt.xlabel(r'$\\omega/\\omega_m$', fontsize = 15)\n",
    "plt.ylabel(r'$S_{out}(\\omega)$', fontsize = 15)\n",
    "plt.legend(loc=\"upper left\", fontsize = 12)\n",
    "\n",
    "# axis ticks\n",
    "#plt.xticks(np.arange(-2, 2.1, 1))\n",
    "# plt.yticks(np.arange(0, 8e-3, 1e-3))\n",
    "plt.xticks(fontsize = 15)\n",
    "plt.yticks(fontsize = 15)\n",
    "\n",
    "\n",
    "# Formatting x and y-axis ticks in scientific notation\n",
    "formatter = ticker.ScalarFormatter(useMathText=True)\n",
    "formatter.set_scientific(True)\n",
    "formatter.set_powerlimits((-1, 1))\n",
    "plt.gca().yaxis.set_major_formatter(formatter)\n",
    "plt.gca().xaxis.set_major_formatter(formatter)\n",
    "\n",
    "\n",
    "# save the plot to a file\n",
    "plt.savefig('figure7.png')\n",
    "\n",
    "\n",
    "plt.show()\n",
    "\n"
   ]
  },
  {
   "cell_type": "markdown",
   "id": "effd04d9",
   "metadata": {},
   "source": [
    "# Result\n",
    "The two peaks at $\\omega \\approx \\omega_m$ are the stokes and anti-stokes lines"
   ]
  },
  {
   "cell_type": "markdown",
   "id": "68c6573f",
   "metadata": {},
   "source": [
    "# Appendix"
   ]
  },
  {
   "cell_type": "markdown",
   "id": "96fe36d6",
   "metadata": {},
   "source": [
    "$$\n",
    "E_1(\\omega) = \\frac{\\sqrt{2\\kappa}\\left(-2i|G|^2\\omega_m - \\left(\\omega^2_m -\\omega^2 - i\\omega\\gamma_m \\right)\\left(\\kappa-i(\\tilde{\\Delta} + \\omega)\\right)\\right)}{d(\\omega)}\n",
    "$$\n",
    "can be written in terms of dimensionless parameters as:\n",
    "\n",
    "$$\n",
    "E_1(\\omega) = \\frac{\\sqrt{2\\kappa}\\left(-2i|\\tilde{G}|^2 + i\\gamma_m\\left(\\kappa-i(\\tilde{\\Delta} + \\omega)\\right)\\right)}{\\sqrt{\\omega_m}\\tilde{d}(\\omega_m)}\n",
    "%\n",
    "$$"
   ]
  },
  {
   "cell_type": "code",
   "execution_count": null,
   "id": "6866772e",
   "metadata": {},
   "outputs": [],
   "source": []
  }
 ],
 "metadata": {
  "kernelspec": {
   "display_name": "Python 3 (ipykernel)",
   "language": "python",
   "name": "python3"
  },
  "language_info": {
   "codemirror_mode": {
    "name": "ipython",
    "version": 3
   },
   "file_extension": ".py",
   "mimetype": "text/x-python",
   "name": "python",
   "nbconvert_exporter": "python",
   "pygments_lexer": "ipython3",
   "version": "3.11.5"
  }
 },
 "nbformat": 4,
 "nbformat_minor": 5
}
